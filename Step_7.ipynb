{
  "nbformat": 4,
  "nbformat_minor": 0,
  "metadata": {
    "colab": {
      "name": "Step 7.ipynb",
      "provenance": [],
      "collapsed_sections": []
    },
    "kernelspec": {
      "name": "python3",
      "display_name": "Python 3"
    },
    "language_info": {
      "name": "python"
    }
  },
  "cells": [
    {
      "cell_type": "code",
      "execution_count": 4,
      "metadata": {
        "colab": {
          "base_uri": "https://localhost:8080/"
        },
        "id": "A6fDjrG1a5AR",
        "outputId": "56d2d00b-1dce-4dc7-d780-5cdffcedf9fd"
      },
      "outputs": [
        {
          "output_type": "stream",
          "name": "stdout",
          "text": [
            "Hello Professor!..\n",
            "My name is Keith Frank\n"
          ]
        }
      ],
      "source": [
        "print('Hello Professor!..')\n",
        "\n",
        "print ('My name is Keith Frank')"
      ]
    }
  ]
}