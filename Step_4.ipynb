{
  "nbformat": 4,
  "nbformat_minor": 0,
  "metadata": {
    "colab": {
      "name": "Step 4.ipynb",
      "provenance": [],
      "collapsed_sections": []
    },
    "kernelspec": {
      "name": "python3",
      "display_name": "Python 3"
    },
    "language_info": {
      "name": "python"
    }
  },
  "cells": [
    {
      "cell_type": "code",
      "execution_count": 3,
      "metadata": {
        "colab": {
          "base_uri": "https://localhost:8080/"
        },
        "id": "A6fDjrG1a5AR",
        "outputId": "4ae2ccaf-7362-4571-cfb8-f40de2e5744b"
      },
      "outputs": [
        {
          "output_type": "stream",
          "name": "stdout",
          "text": [
            "Hello Professor!..\n",
            "My first Repository on GitHub...\n"
          ]
        }
      ],
      "source": [
        "print('Hello Professor!..')\n",
        "\n",
        "print ('My first Repository on GitHub...')"
      ]
    }
  ]
}